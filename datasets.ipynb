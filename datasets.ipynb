{
 "metadata": {
  "name": "datasets"
 },
 "nbformat": 3,
 "nbformat_minor": 0,
 "worksheets": [
  {
   "cells": [
    {
     "cell_type": "markdown",
     "metadata": {},
     "source": [
      "#Purpose\n",
      "##Alert Fatigue\n",
      "http://www.healthmetricsandevaluation.org/news-events/seminar/overdiagnosed-making-people-sick-pursuit-health"
     ]
    },
    {
     "cell_type": "markdown",
     "metadata": {},
     "source": [
      "# DataSets \n",
      "\n",
      "## Workflow\n",
      "### {makefile, open data (bootstrapped) , hippa}\n",
      "### DataMining\n",
      "### Boosting\n",
      "### Hypothesis Testing"
     ]
    },
    {
     "cell_type": "markdown",
     "metadata": {},
     "source": [
      "##MIMIC - Telehealth\n",
      "\n",
      "\n",
      "http://physionet.org/mimic2/UserGuide/node14.html\n"
     ]
    },
    {
     "cell_type": "code",
     "collapsed": false,
     "input": [],
     "language": "python",
     "metadata": {},
     "outputs": [],
     "prompt_number": 11
    },
    {
     "cell_type": "markdown",
     "metadata": {},
     "source": [
      "## Time Series\n",
      "### data pooling"
     ]
    },
    {
     "cell_type": "markdown",
     "metadata": {},
     "source": [
      "## LogNormal Distribution\n",
      "### qq-plot\n",
      "### ks-test"
     ]
    },
    {
     "cell_type": "markdown",
     "metadata": {},
     "source": [
      "##Trends\n",
      "####http://jakevdp.github.io/blog/2014/06/10/is-seattle-really-seeing-an-uptick-in-cycling/"
     ]
    },
    {
     "cell_type": "markdown",
     "metadata": {},
     "source": []
    },
    {
     "cell_type": "code",
     "collapsed": false,
     "input": [
      "from IPython.core.display import HTML\n",
      "css_file = './custom.css'\n",
      "HTML(open(css_file, \"r\").read())"
     ],
     "language": "python",
     "metadata": {},
     "outputs": [
      {
       "html": [
        "<link href='http://fonts.googleapis.com/css?family=Alegreya+Sans:100,300,400,500,700,800,900,100italic,300italic,400italic,500italic,700italic,800italic,900italic' rel='stylesheet' type='text/css'>\n",
        "<link href='http://fonts.googleapis.com/css?family=Arvo:400,700,400italic' rel='stylesheet' type='text/css'>\n",
        "<link href='http://fonts.googleapis.com/css?family=PT+Mono' rel='stylesheet' type='text/css'>\n",
        "<link href='http://fonts.googleapis.com/css?family=Philosopher:400,700,400italic,700italic' rel='stylesheet' type='text/css'>\n",
        "<style>\n",
        "#notebook_panel { /* main background */\n",
        "\tbackground: #888;\n",
        "\tcolor: #f6f6f6;\n",
        "}\n",
        "div.cell { /* set cell width to about 80 chars */\n",
        "\twidth: 800px;\n",
        "}\n",
        "div #notebook { /* centre the content */\n",
        "\tbackground: #fff; /* white background for content */\n",
        "\twidth: 1000px;\n",
        "\tmargin: auto;\n",
        "\tpadding-left: 1em;\n",
        "}\n",
        "#notebook li { /* More space between bullet points */\n",
        "\tmargin-top:0.8em;\n",
        "}\n",
        "/* draw border around running cells */\n",
        "div.cell.border-box-sizing.code_cell.running {\n",
        "\tborder: 3px solid #111;\n",
        "}\n",
        "/* Put a solid color box around each cell and its output, visually linking them together */\n",
        "div.cell.code_cell {\n",
        "\tbackground-color: rgba(171,165,131,1.0);\n",
        "\tborder-radius: 10px; /* rounded borders */\n",
        "\tpadding: 1em;\n",
        "\tmargin-top: 1em;\n",
        "}\n",
        "div.text_cell_render{\n",
        "\tfont-family: 'Arvo' sans-serif;\n",
        "\tline-height: 130%;\n",
        "\tfont-size: 115%;\n",
        "\twidth:700px;\n",
        "\tmargin-left:auto;\n",
        "\tmargin-right:auto;\n",
        "}\n",
        "/* Formatting for header cells */\n",
        ".text_cell_render h1 {\n",
        "\tfont-family: 'Philosopher', sans-serif;\n",
        "\tfont-weight: 400;\n",
        "\tfont-size: 40pt;\n",
        "\tline-height: 100%;\n",
        "\tcolor: rgb(12,85,97);\n",
        "\tmargin-bottom: 0.1em;\n",
        "\tmargin-top: 0.1em;\n",
        "\tdisplay: block;\n",
        "}\t\n",
        ".text_cell_render h2 {\n",
        "\tfont-family: 'Philosopher', serif;\n",
        "\tfont-weight: 700;\n",
        "\tfont-size: 24pt;\n",
        "\tline-height: 100%;\n",
        "\tcolor: rgb(171,165,131);\n",
        "\tmargin-bottom: 0.1em;\n",
        "\tmargin-top: 0.1em;\n",
        "\tdisplay: block;\n",
        "}\t\n",
        ".text_cell_render h3 {\n",
        "\tfont-family: 'Philosopher', serif;\n",
        "\tmargin-top:12px;\n",
        "\tmargin-bottom: 3px;\n",
        "\tfont-style: italic;\n",
        "\tcolor: rgb(95,92,72);\n",
        "}\n",
        ".text_cell_render h4 {\n",
        "\tfont-family: 'Philosopher', serif;\n",
        "}\n",
        ".text_cell_render h5 {\n",
        "\tfont-family: 'Alegreya Sans', sans-serif;\n",
        "\tfont-weight: 300;\n",
        "\tfont-size: 16pt;\n",
        "\tcolor: grey;\n",
        "\tfont-style: italic;\n",
        "\tmargin-bottom: .1em;\n",
        "\tmargin-top: 0.1em;\n",
        "\tdisplay: block;\n",
        "}\n",
        ".text_cell_render h6 {\n",
        "\tfont-family: 'PT Mono', sans-serif;\n",
        "\tfont-weight: 300;\n",
        "\tfont-size: 10pt;\n",
        "\tcolor: grey;\n",
        "\tmargin-bottom: 1px;\n",
        "\tmargin-top: 1px;\n",
        "}\n",
        ".CodeMirror{\n",
        "\tfont-family: \"PT Mono\";\n",
        "\tfont-size: 100%;\n",
        "}\n",
        "</style>\n"
       ],
       "output_type": "pyout",
       "prompt_number": 10,
       "text": [
        "<IPython.core.display.HTML at 0x393e350>"
       ]
      }
     ],
     "prompt_number": 10
    },
    {
     "cell_type": "markdown",
     "metadata": {},
     "source": [
      "<script type=\"text/javascript\">\n",
      "    on = \"View input\";\n",
      "    off = \"Hide input\"\n",
      "    function onoff(){\n",
      "      currentvalue = document.getElementById('onoff').value;\n",
      "      if(currentvalue == off){\n",
      "        document.getElementById(\"onoff\").value=on;\n",
      "          $('div.input').hide();\n",
      "      }else{\n",
      "        document.getElementById(\"onoff\").value=off;\n",
      "          $('div.input').show();\n",
      "      }\n",
      "}\n",
      "</script>\n",
      "<input type=\"button\" class=\"ui-button ui-widget ui-state-default ui-corner-all ui-button-text-only\" value=\"Hide input\" id=\"onoff\" onclick=\"onoff();\">"
     ]
    },
    {
     "cell_type": "markdown",
     "metadata": {},
     "source": [
      "\n"
     ]
    }
   ],
   "metadata": {}
  }
 ]
}