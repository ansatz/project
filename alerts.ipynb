{
 "metadata": {
  "name": "alerts"
 },
 "nbformat": 3,
 "nbformat_minor": 0,
 "worksheets": [
  {
   "cells": [
    {
     "cell_type": "markdown",
     "metadata": {},
     "source": [
      "# Alerts"
     ]
    },
    {
     "cell_type": "code",
     "collapsed": true,
     "input": [
      "%connect_info"
     ],
     "language": "python",
     "metadata": {},
     "outputs": [
      {
       "output_type": "stream",
       "stream": "stdout",
       "text": [
        "{\n",
        "  \"stdin_port\": 46399, \n",
        "  \"ip\": \"127.0.0.1\", \n",
        "  \"hb_port\": 39355, \n",
        "  \"key\": \"7ee82a49-6a11-47b4-8866-26cf96034857\", \n",
        "  \"shell_port\": 55707, \n",
        "  \"iopub_port\": 57410\n",
        "}\n",
        "\n",
        "Paste the above JSON into a file, and connect with:\n",
        "    $> ipython <app> --existing <file>\n",
        "or, if you are local, you can connect with just:\n",
        "    $> ipython <app> --existing kernel-361fd398-70a8-427e-9576-a412547da838.json \n",
        "or even just:\n",
        "    $> ipython <app> --existing \n",
        "if this is the most recent IPython session you have started.\n"
       ]
      }
     ],
     "prompt_number": 14
    },
    {
     "cell_type": "markdown",
     "metadata": {},
     "source": [
      "## Signal Definition\n",
      "#### windows, pooling, periodic\n",
      "A signal is a description of how one parameter varies with another parameter. For instance, voltage changing over time in an electronic circuit, or brightness varying with distance in an image. A system is any process that produces an output signal in response to an input signal."
     ]
    },
    {
     "cell_type": "markdown",
     "metadata": {},
     "source": [
      "##Discrete Fourier Transform\n",
      "\n",
      "The Discrete Fourier Transform(DFT) deals with decomposing a signal into a combination of sinusoid coefficients, ordered by frequency.\n",
      "\n",
      "###Forward Discrete Fourier Transform:\n",
      "\n",
      "$$X_k = \\sum_{n=0}^{N-1}x_n\\cdot e^\\frac{-i 2\\pi k n}{N}$$\n",
      "\n",
      "###Inverse Discrete Fourier Transform (IDFT):\n",
      "$$ x_n = \\sum_{k=0}^{N-1}X_k e^ \\frac{-i 2\\pi k n}{N}$$\n",
      "\n",
      "\n",
      "  The transform from $x_n\\rightarrow X_k$  represents a translation from the original, time domain to the frequency domain.  The observed sequence used by DFT is a convolution of an ideal (infinite, periodic) signal with a finite windowing function.  DFT assumes an ideal signal; if the observation time is not an integer multiple of the period, this results in incoherent sampling, causing the frequency components of the signal change.  In dealing with aperiodic signals, where the frequency range is not clear, a signal may change over time and the changes themselves may vary.  \n",
      "\n",
      "  Convolution in the time domain corresponds to multiplication in the frequency domain; using DFT, however, is faster and easier to interpret.  The frequency response represents the amplitude and phase changes of cosine waves, caused by a linear system; this completely describes the system.  The fourier transform is not sensitive to the amplitude or variance of the original signal, only its frequency. \n",
      "\n",
      "  Finally, the frequency spectrum produced is dependent on windowing size used; in a plot of frequency vs time, a smaller window has more localised time but greater spread in frequency, while larger window sizes better identify true frequency components but are spread more in the time axis.  \n",
      "\n",
      "  Therefore, outlier detection using fourier transform requires window size, frequency amplitude, and frequency threshold parameters to be set.  If the frequency response of the signal contains a frequency component greater than the frequency threshold, then the position is labeled an outlier.  \n",
      "\n",
      "\n",
      "\n"
     ]
    },
    {
     "cell_type": "markdown",
     "metadata": {},
     "source": [
      "Kernel Regression\n",
      "-----------------\n",
      "Given set of observations $(x_i, y_i )$  with $x_i=(x_i1 , ... , x_ip)^T  \\epsilon \\mathbf{R}^p,$\n",
      "\n",
      "$\\hat{f}_\\min argmin_{a_0}\\Sigma_i\\kappa \\left\\frac{x-x_i}{h}\\right (y_i - \\textsl{P_n}(x_i))^2$\n",
      "\n",
      "Where \\textit{P_n} is a polynomial of order \\textit{n}, constant term \\textit{a_0}, \\kappa is kernel to weight values, and \\textit{h} is bandwidth.  A local-polynomial smoothing, using Taylor-decomposition, in 1D:\n",
      "$$\\hat{f}_\\min argmin_{a_0}\\Sigma_i\\kappa \\left\\frac{x-x_i}{h}\\right \\lefty_i - a_0 - a_1(x-x_1) - ... - a_n\\frac{(x-x_i)^n}{n!}\\right^2 $$\n",
      "\n",
      "Nonparametric representation has greater flexibility than parametric, which are restricted to model and parameters. Basic linear regression assumes independence between error terms; this condition is not true for time series data, which contain high temporal dependency. To construct a model based on what is suggested by the data requires greater amounts of data.  Using higher order polynomials, or smaller kernel bandwidths with small data size, leads to overfitting. The bandwidth of the kernel is the standard deviation; it is chosen to be small for large, tightly packed data, and large for sparse, small data sets. Bootstrapping can compute the confidence intervals from the estimates; values outside the confidence interval are labeled outliers.  \n",
      "\n",
      "\n",
      "\n",
      "\n"
     ]
    },
    {
     "cell_type": "markdown",
     "metadata": {},
     "source": [
      "##Bayesian ChangePoint Detection\n",
      "\n",
      "Change point detection can identify changes in dependency structure in times series.  In general, it determines both whether any change has occured, or if several changes have occured.  Using a bayesian framework, the problem becomes formulated as \n",
      "\n",
      "             $$\\textit{p(posterior) \\propto  p(likelihood)p(prior}$$\n",
      "\n"
     ]
    },
    {
     "cell_type": "code",
     "collapsed": false,
     "input": [
      "#radar plot"
     ],
     "language": "python",
     "metadata": {},
     "outputs": [],
     "prompt_number": 13
    },
    {
     "cell_type": "code",
     "collapsed": false,
     "input": [
      "from IPython.core.display import HTML\n",
      "css_file = './custom.css'\n",
      "HTML(open(css_file, \"r\").read())"
     ],
     "language": "python",
     "metadata": {},
     "outputs": [
      {
       "html": [
        "<link href='http://fonts.googleapis.com/css?family=Alegreya+Sans:100,300,400,500,700,800,900,100italic,300italic,400italic,500italic,700italic,800italic,900italic' rel='stylesheet' type='text/css'>\n",
        "<link href='http://fonts.googleapis.com/css?family=Arvo:400,700,400italic' rel='stylesheet' type='text/css'>\n",
        "<link href='http://fonts.googleapis.com/css?family=PT+Mono' rel='stylesheet' type='text/css'>\n",
        "<link href='http://fonts.googleapis.com/css?family=Philosopher:400,700,400italic,700italic' rel='stylesheet' type='text/css'>\n",
        "<style>\n",
        "#notebook_panel { /* main background */\n",
        "\tbackground: #888;\n",
        "\tcolor: #f6f6f6;\n",
        "}\n",
        "div.cell { /* set cell width to about 80 chars */\n",
        "\twidth: 800px;\n",
        "}\n",
        "div #notebook { /* centre the content */\n",
        "\tbackground: #fff; /* white background for content */\n",
        "\twidth: 1000px;\n",
        "\tmargin: auto;\n",
        "\tpadding-left: 1em;\n",
        "}\n",
        "#notebook li { /* More space between bullet points */\n",
        "\tmargin-top:0.8em;\n",
        "}\n",
        "/* draw border around running cells */\n",
        "div.cell.border-box-sizing.code_cell.running {\n",
        "\tborder: 3px solid #111;\n",
        "}\n",
        "/* Put a solid color box around each cell and its output, visually linking them together */\n",
        "div.cell.code_cell {\n",
        "\tbackground-color: rgba(171,165,131,1.0);\n",
        "\tborder-radius: 10px; /* rounded borders */\n",
        "\tpadding: 1em;\n",
        "\tmargin-top: 1em;\n",
        "}\n",
        "div.text_cell_render{\n",
        "\tfont-family: 'Arvo' sans-serif;\n",
        "\tline-height: 130%;\n",
        "\tfont-size: 115%;\n",
        "\twidth:700px;\n",
        "\tmargin-left:auto;\n",
        "\tmargin-right:auto;\n",
        "}\n",
        "/* Formatting for header cells */\n",
        ".text_cell_render h1 {\n",
        "\tfont-family: 'Philosopher', sans-serif;\n",
        "\tfont-weight: 400;\n",
        "\tfont-size: 40pt;\n",
        "\tline-height: 100%;\n",
        "\tcolor: rgb(12,85,97);\n",
        "\tmargin-bottom: 0.1em;\n",
        "\tmargin-top: 0.1em;\n",
        "\tdisplay: block;\n",
        "}\t\n",
        ".text_cell_render h2 {\n",
        "\tfont-family: 'Philosopher', serif;\n",
        "\tfont-weight: 700;\n",
        "\tfont-size: 24pt;\n",
        "\tline-height: 100%;\n",
        "\tcolor: rgb(171,165,131);\n",
        "\tmargin-bottom: 0.1em;\n",
        "\tmargin-top: 0.1em;\n",
        "\tdisplay: block;\n",
        "}\t\n",
        ".text_cell_render h3 {\n",
        "\tfont-family: 'Philosopher', serif;\n",
        "\tmargin-top:12px;\n",
        "\tmargin-bottom: 3px;\n",
        "\tfont-style: italic;\n",
        "\tcolor: rgb(95,92,72);\n",
        "}\n",
        ".text_cell_render h4 {\n",
        "\tfont-family: 'Philosopher', serif;\n",
        "}\n",
        ".text_cell_render h5 {\n",
        "\tfont-family: 'Alegreya Sans', sans-serif;\n",
        "\tfont-weight: 300;\n",
        "\tfont-size: 16pt;\n",
        "\tcolor: grey;\n",
        "\tfont-style: italic;\n",
        "\tmargin-bottom: .1em;\n",
        "\tmargin-top: 0.1em;\n",
        "\tdisplay: block;\n",
        "}\n",
        ".text_cell_render h6 {\n",
        "\tfont-family: 'PT Mono', sans-serif;\n",
        "\tfont-weight: 300;\n",
        "\tfont-size: 10pt;\n",
        "\tcolor: grey;\n",
        "\tmargin-bottom: 1px;\n",
        "\tmargin-top: 1px;\n",
        "}\n",
        ".CodeMirror{\n",
        "\tfont-family: \"PT Mono\";\n",
        "\tfont-size: 100%;\n",
        "}\n",
        "</style>\n"
       ],
       "output_type": "pyout",
       "prompt_number": 12,
       "text": [
        "<IPython.core.display.HTML at 0x390fad0>"
       ]
      }
     ],
     "prompt_number": 12
    },
    {
     "cell_type": "markdown",
     "metadata": {},
     "source": [
      "<script type=\"text/javascript\">\n",
      "    on = \"View input\";\n",
      "    off = \"Hide input\"\n",
      "    function onoff(){\n",
      "      currentvalue = document.getElementById('onoff').value;\n",
      "      if(currentvalue == off){\n",
      "        document.getElementById(\"onoff\").value=on;\n",
      "          $('div.input').hide();\n",
      "      }else{\n",
      "        document.getElementById(\"onoff\").value=off;\n",
      "          $('div.input').show();\n",
      "      }\n",
      "}\n",
      "</script>\n",
      "<input type=\"button\" class=\"ui-button ui-widget ui-state-default ui-corner-all ui-button-text-only\" value=\"Hide input\" id=\"onoff\" onclick=\"onoff();\">"
     ]
    },
    {
     "cell_type": "code",
     "collapsed": false,
     "input": [],
     "language": "python",
     "metadata": {},
     "outputs": []
    }
   ],
   "metadata": {}
  }
 ]
}