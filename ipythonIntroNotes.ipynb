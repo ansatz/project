{
 "metadata": {
  "name": "ipythonIntroNotes"
 },
 "nbformat": 3,
 "nbformat_minor": 0,
 "worksheets": [
  {
   "cells": [
    {
     "cell_type": "markdown",
     "metadata": {},
     "source": [
      "#ipython\n",
      "## style\n",
      "###load css"
     ]
    },
    {
     "cell_type": "code",
     "collapsed": false,
     "input": [
      "from IPython.core.display import HTML\n",
      "css_file = './custom.css'\n",
      "HTML(open(css_file, \"r\").read())"
     ],
     "language": "python",
     "metadata": {},
     "outputs": [
      {
       "html": [
        "<link href='http://fonts.googleapis.com/css?family=Alegreya+Sans:100,300,400,500,700,800,900,100italic,300italic,400italic,500italic,700italic,800italic,900italic' rel='stylesheet' type='text/css'>\n",
        "<link href='http://fonts.googleapis.com/css?family=Arvo:400,700,400italic' rel='stylesheet' type='text/css'>\n",
        "<link href='http://fonts.googleapis.com/css?family=PT+Mono' rel='stylesheet' type='text/css'>\n",
        "<link href='http://fonts.googleapis.com/css?family=Philosopher:400,700,400italic,700italic' rel='stylesheet' type='text/css'>\n",
        "<style>\n",
        "#notebook_panel { /* main background */\n",
        "\tbackground: #888;\n",
        "\tcolor: #f6f6f6;\n",
        "}\n",
        "div.cell { /* set cell width to about 80 chars */\n",
        "\twidth: 800px;\n",
        "}\n",
        "div #notebook { /* centre the content */\n",
        "\tbackground: #fff; /* white background for content */\n",
        "\twidth: 1000px;\n",
        "\tmargin: auto;\n",
        "\tpadding-left: 1em;\n",
        "}\n",
        "#notebook li { /* More space between bullet points */\n",
        "\tmargin-top:0.8em;\n",
        "}\n",
        "/* draw border around running cells */\n",
        "div.cell.border-box-sizing.code_cell.running {\n",
        "\tborder: 3px solid #111;\n",
        "}\n",
        "/* Put a solid color box around each cell and its output, visually linking them together */\n",
        "div.cell.code_cell {\n",
        "\tbackground-color: rgba(171,165,131,1.0);\n",
        "\tborder-radius: 10px; /* rounded borders */\n",
        "\tpadding: 1em;\n",
        "\tmargin-top: 1em;\n",
        "}\n",
        "div.text_cell_render{\n",
        "\tfont-family: 'Arvo' sans-serif;\n",
        "\tline-height: 130%;\n",
        "\tfont-size: 115%;\n",
        "\twidth:700px;\n",
        "\tmargin-left:auto;\n",
        "\tmargin-right:auto;\n",
        "}\n",
        "/* Formatting for header cells */\n",
        ".text_cell_render h1 {\n",
        "\tfont-family: 'Philosopher', sans-serif;\n",
        "\tfont-weight: 400;\n",
        "\tfont-size: 40pt;\n",
        "\tline-height: 100%;\n",
        "\tcolor: rgb(12,85,97);\n",
        "\tmargin-bottom: 0.1em;\n",
        "\tmargin-top: 0.1em;\n",
        "\tdisplay: block;\n",
        "}\t\n",
        ".text_cell_render h2 {\n",
        "\tfont-family: 'Philosopher', serif;\n",
        "\tfont-weight: 700;\n",
        "\tfont-size: 24pt;\n",
        "\tline-height: 100%;\n",
        "\tcolor: rgb(171,165,131);\n",
        "\tmargin-bottom: 0.1em;\n",
        "\tmargin-top: 0.1em;\n",
        "\tdisplay: block;\n",
        "}\t\n",
        ".text_cell_render h3 {\n",
        "\tfont-family: 'Philosopher', serif;\n",
        "\tmargin-top:12px;\n",
        "\tmargin-bottom: 3px;\n",
        "\tfont-style: italic;\n",
        "\tcolor: rgb(95,92,72);\n",
        "}\n",
        ".text_cell_render h4 {\n",
        "\tfont-family: 'Philosopher', serif;\n",
        "}\n",
        ".text_cell_render h5 {\n",
        "\tfont-family: 'Alegreya Sans', sans-serif;\n",
        "\tfont-weight: 300;\n",
        "\tfont-size: 16pt;\n",
        "\tcolor: grey;\n",
        "\tfont-style: italic;\n",
        "\tmargin-bottom: .1em;\n",
        "\tmargin-top: 0.1em;\n",
        "\tdisplay: block;\n",
        "}\n",
        ".text_cell_render h6 {\n",
        "\tfont-family: 'PT Mono', sans-serif;\n",
        "\tfont-weight: 300;\n",
        "\tfont-size: 10pt;\n",
        "\tcolor: grey;\n",
        "\tmargin-bottom: 1px;\n",
        "\tmargin-top: 1px;\n",
        "}\n",
        ".CodeMirror{\n",
        "\tfont-family: \"PT Mono\";\n",
        "\tfont-size: 100%;\n",
        "}\n",
        "</style>\n"
       ],
       "output_type": "pyout",
       "prompt_number": 1,
       "text": [
        "<IPython.core.display.HTML at 0x3afd050>"
       ]
      }
     ],
     "prompt_number": 1
    },
    {
     "cell_type": "markdown",
     "metadata": {},
     "source": [
      "### hide code\n",
      "insert below into md"
     ]
    },
    {
     "cell_type": "code",
     "collapsed": false,
     "input": [
      "<script type=\"text/javascript\">\n",
      "    on = \"View input\";\n",
      "    off = \"Hide input\"\n",
      "    function onoff(){\n",
      "      currentvalue = document.getElementById('onoff').value;\n",
      "      if(currentvalue == off){\n",
      "        document.getElementById(\"onoff\").value=on;\n",
      "          $('div.input').hide();\n",
      "      }else{\n",
      "        document.getElementById(\"onoff\").value=off;\n",
      "          $('div.input').show();\n",
      "      }\n",
      "}\n",
      "</script>\n",
      "<input type=\"button\" class=\"ui-button ui-widget ui-state-default ui-corner-all ui-button-text-only\" value=\"Hide input\" id=\"onoff\" onclick=\"onoff();\">"
     ],
     "language": "python",
     "metadata": {},
     "outputs": []
    },
    {
     "cell_type": "markdown",
     "metadata": {},
     "source": [
      "##shortcuts:\n",
      "c-m a/b insert cell above/below\n",
      "c-m j/k move up/down\n",
      "s-ret run and go to next cell\n",
      "c-ret run and stay at cell\n",
      "\n",
      "##magic:\n",
      "%run\n",
      "%connect_info\n",
      "%reset /rest the namespace\n",
      "%timeit somefunc()  /iterations, time\n",
      "%time func() /time of single execution\n",
      "\n",
      "##%debug\n",
      "aftern exception, drops you back into frame post-mortem\n",
      "assert(a+b==somefalse)\n",
      "exception\n",
      "ipdb> //the debugger\n",
      "explore everything that kept alive by debugger, in each stack frame\n",
      "u up\n",
      "d down\n",
      "start lowest, where error\n",
      "\n",
      "##breakpoints\n",
      "%run -d (invokes the debugger before running script)\n",
      "s step into script\n",
      "b line# set breakpoint\n",
      "c run script up to brekpoint\n",
      "at breakpoint press n(next) to go next line or s(step) into func()\n",
      "!var to see value/state of variable\n",
      "ie !a\n",
      "\n",
      "##in profile (config):\n",
      "use set_trace() and debug() to quickly set breakpoint, or stepinto function frame\n",
      "\n",
      "profiling (like timing, but seeing where code time is spent)\n",
      "%prun -l 7 -s cumulative function()\n",
      "\n",
      "line profiling\n",
      "%lprun\n",
      "\n",
      "##convet notebook\n",
      "-- nbconvert (pandoc) --to slides --to latex\n",
      "\n",
      "--dexy\n",
      "wiki2beamer\n",
      "http://www.damian.oquanta.info/posts/customizing-your-ipython-slides.html\n",
      "## nikola vs pelican\n",
      "http://blog.aquinzi.com/pelican-nikola/\n",
      "http://www.slideshare.net/areski/nikola-a-static-blog-site-generator-python-meetup-19-feb2014\n",
      "\n",
      "##ipython to blogger\n",
      "http://blog.fperez.org/2012/09/blogging-with-ipython-notebook.html\n"
     ]
    },
    {
     "cell_type": "markdown",
     "metadata": {},
     "source": [
      "###themes\n",
      "http://zulko.wordpress.com/2013/04/14/customize-your-ipython-notebook-with-css/"
     ]
    },
    {
     "cell_type": "markdown",
     "metadata": {},
     "source": [
      "#vim-python\n",
      "## run notebook\n",
      "1. ipython notebook --pylab=inline\n",
      "2. %connect_info\n",
      "3. v7\n",
      "4. :IPython --existing kernel-xxxx-sss--s----s-ss---.json\n",
      "5. c-s line/block; f5 load file; \\s vim-ipython shell\n"
     ]
    },
    {
     "cell_type": "code",
     "collapsed": false,
     "input": [
      "%connect_info"
     ],
     "language": "python",
     "metadata": {},
     "outputs": [
      {
       "output_type": "stream",
       "stream": "stdout",
       "text": [
        "{\n",
        "  \"stdin_port\": 42756, \n",
        "  \"ip\": \"127.0.0.1\", \n",
        "  \"hb_port\": 54444, \n",
        "  \"key\": \"7ee82a49-6a11-47b4-8866-26cf96034857\", \n",
        "  \"shell_port\": 39790, \n",
        "  \"iopub_port\": 33385\n",
        "}\n",
        "\n",
        "Paste the above JSON into a file, and connect with:\n",
        "    $> ipython <app> --existing <file>\n",
        "or, if you are local, you can connect with just:\n",
        "    $> ipython <app> --existing kernel-5bb03a7d-0ca8-4a54-8b24-1576c0bdc00d.json \n",
        "or even just:\n",
        "    $> ipython <app> --existing \n",
        "if this is the most recent IPython session you have started.\n"
       ]
      }
     ],
     "prompt_number": 2
    },
    {
     "cell_type": "markdown",
     "metadata": {},
     "source": [
      "##plots        \n",
      "###plots reproducible \n",
      "http://damon-is-a-geek.com/publication-ready-the-first-time-beautiful-reproducible-plots-with-matplotlib.html \n",
      "\n",
      "\n"
     ]
    },
    {
     "cell_type": "code",
     "collapsed": false,
     "input": [
      "## links\n",
      "#http://lorenabarba.com/blog/announcing-aeropython/ \n",
      "#http://nbviewer.ipython.org/github/ketch/HyperPython/blob/master/Lesson_03_High-resolution_methods.ipynb \n",
      "#http://www.davidketcheson.info/2014/05/28/hyperpython.html \n",
      "#http://slendermeans.org/better-typography-for-ipython-notebooks.html \n",
      "#http://blog.henryhhammond.com/theming-ipython/ \n",
      "#http://nbviewer.ipython.org/github/hugadams/imgproc_supplemental/blob/master/Notebooks/NBCONFIG.ipynb \n",
      "#ipython notebook stat analysis \n",
      "#https://github.com/fonnesbeck/statistical-analysis-python-tutorial"
     ],
     "language": "python",
     "metadata": {},
     "outputs": []
    }
   ],
   "metadata": {}
  }
 ]
}